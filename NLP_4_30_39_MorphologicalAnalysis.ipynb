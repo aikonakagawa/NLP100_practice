{
 "cells": [
  {
   "cell_type": "markdown",
   "metadata": {},
   "source": [
    "# 言語処理100本ノック"
   ]
  },
  {
   "cell_type": "markdown",
   "metadata": {},
   "source": [
    "#### https://nlp100.github.io/ja/"
   ]
  },
  {
   "cell_type": "markdown",
   "metadata": {},
   "source": [
    "## 第4章: 形態素解析"
   ]
  },
  {
   "cell_type": "markdown",
   "metadata": {},
   "source": [
    "##### 夏目漱石の小説『吾輩は猫である』の文章（neko.txt）をMeCabを使って形態素解析し，その結果をneko.txt.mecabというファイルに保存せよ．このファイルを用いて，以下の問に対応するプログラムを実装せよ．\n",
    "\n",
    "##### なお，問題37, 38, 39はmatplotlibもしくはGnuplotを用いるとよい．"
   ]
  },
  {
   "cell_type": "code",
   "execution_count": 1,
   "metadata": {},
   "outputs": [
    {
     "data": {
      "text/plain": [
       "'\\nconda install -c anaconda swig\\npip install mecab-python3\\n'"
      ]
     },
     "execution_count": 1,
     "metadata": {},
     "output_type": "execute_result"
    }
   ],
   "source": [
    "#Mecabインストール\n",
    "\"\"\"\n",
    "! sudo yum update\n",
    "! sudo yum install gcc make glibc gcc-c++ python-devel\n",
    "! wget -O mecab-0.996.tar.gz 'https://drive.google.com/uc?export=download&id=0B4y35FiV1wh7cENtOXlicTFaRUE'\n",
    "! tar xvzf mecab-0.996.tar.gz\n",
    "! cd mecab-0.996\n",
    "! ./configure\n",
    "! make\n",
    "! make check\n",
    "! sudo make install\n",
    "! cd ../\n",
    "\"\"\"\n",
    "# 4.MeCab 等で使用する辞書(IPADIC)をインストール\n",
    "\"\"\"\n",
    "$ wget -O mecab-ipadic-2.7.0-20070801.tar.gz 'https://drive.google.com/uc?export=download&id=0B4y35FiV1wh7MWVlSDBCSXZMTXM'\n",
    "$ tar xvzf mecab-ipadic-2.7.0-20070801.tar.gz\n",
    "$ cd mecab-ipadic-2.7.0-20070801\n",
    "$ ./configure -with-charset=utf-8 –enable-utf8-only\n",
    "$ make\n",
    "$ sudo make install\n",
    "$ cd ../\n",
    "\n",
    "\"\"\"\n",
    "#　Anacondaで使えるようにバインド\n",
    "\"\"\"\n",
    "conda install -c anaconda swig\n",
    "pip install mecab-python3\n",
    "\"\"\"\n"
   ]
  },
  {
   "cell_type": "code",
   "execution_count": 2,
   "metadata": {},
   "outputs": [],
   "source": [
    "# ライブラリインポート\n",
    "import numpy as np\n",
    "import scipy as sp\n",
    "import pandas as pd\n",
    "from pandas import Series, DataFrame\n",
    "\n",
    "import json\n",
    "import re\n",
    "import pprint\n",
    "\n",
    "import matplotlib\n",
    "\n",
    "import MeCab"
   ]
  },
  {
   "cell_type": "markdown",
   "metadata": {},
   "source": [
    "### 30. 形態素解析結果の読み込み\n",
    "##### 形態素解析結果（neko.txt.mecab）を読み込むプログラムを実装せよ．ただし，各形態素は表層形（surface），基本形（base），品詞（pos），品詞細分類1（pos1）をキーとするマッピング型に格納し，1文を形態素（マッピング型）のリストとして表現せよ．第4章の残りの問題では，ここで作ったプログラムを活用せよ．"
   ]
  },
  {
   "cell_type": "code",
   "execution_count": 3,
   "metadata": {},
   "outputs": [],
   "source": [
    "# MeCabの結果フォーマット\n",
    "# 表層形\\t品詞,品詞細分類1,品詞細分類2,品詞細分類3,活用型,活用形,原形,読み,発音\n",
    "\n",
    "#MeCab実行\n",
    "!mecab ./data/4/neko.txt >./data/4/neko.txt.middle\n",
    "!head ./data/4/neko.txt.middle -n 100 >./data/4/neko.txt.middle100\n",
    "\n",
    "#辞書型へ編集\n",
    "sentence = []\n",
    "sentences = []\n",
    "\n",
    "with open('./data/4/neko.txt.middle100','r') as fr:\n",
    "    #一行ずつ読み込み\n",
    "    for mecab_str in fr.read().split('\\n'):\n",
    "        #print(mecab_str)\n",
    "\n",
    "        #タブで区切り\n",
    "        mecab_surface = mecab_str.split('\\t')\n",
    "        #print(mecab_surface)\n",
    "\n",
    "        if len(mecab_surface) > 1 :\n",
    "            mecab_list = mecab_surface[1].split(',')\n",
    "\n",
    "            word_dict = {\n",
    "                'surface' : mecab_surface[0],\n",
    "                'base' : mecab_list[6],\n",
    "                'pos' : mecab_list[0],\n",
    "                'pos1' : mecab_list[1]\n",
    "            }\n",
    "            sentence.append(word_dict)\n",
    "        else:\n",
    "            sentences.append(sentence)\n",
    "            sentence=[]\n",
    "            \n",
    "with open('./data/4/neko.txt.mecab100','w') as fw:\n",
    "    fw.write(str(sentences))"
   ]
  },
  {
   "cell_type": "markdown",
   "metadata": {},
   "source": [
    "### 31. 動詞\n",
    "##### 動詞の表層形をすべて抽出せよ．．"
   ]
  },
  {
   "cell_type": "code",
   "execution_count": 4,
   "metadata": {},
   "outputs": [
    {
     "data": {
      "text/plain": [
       "['生れ', 'つか', 'し', '泣い', 'し', 'いる', '始め', '見', '聞く', '捕え', '煮']"
      ]
     },
     "execution_count": 4,
     "metadata": {},
     "output_type": "execute_result"
    }
   ],
   "source": [
    "surface = []\n",
    "for sentnese in sentences:\n",
    "    for morphene in sentnese:\n",
    "        if morphene['pos'] == '動詞':\n",
    "            surface.append(morphene['surface'])\n",
    "surface"
   ]
  },
  {
   "cell_type": "markdown",
   "metadata": {},
   "source": [
    "### 32. 動詞の原形\n",
    "##### 動詞の原形をすべて抽出せよ．"
   ]
  },
  {
   "cell_type": "code",
   "execution_count": 6,
   "metadata": {},
   "outputs": [
    {
     "data": {
      "text/plain": [
       "['生れる', 'つく', 'する', '泣く', 'する', 'いる', '始める', '見る', '聞く', '捕える', '煮る']"
      ]
     },
     "execution_count": 6,
     "metadata": {},
     "output_type": "execute_result"
    }
   ],
   "source": [
    "base = []\n",
    "for sentnese in sentences:\n",
    "    for morphene in sentnese:\n",
    "        if morphene['pos'] == '動詞':\n",
    "            base.append(morphene['base'])\n",
    "base"
   ]
  },
  {
   "cell_type": "markdown",
   "metadata": {},
   "source": [
    "### 33. 「AのB」\n",
    "##### 2つの名詞が「の」で連結されている名詞句を抽出せよ．"
   ]
  },
  {
   "cell_type": "code",
   "execution_count": 7,
   "metadata": {},
   "outputs": [
    {
     "data": {
      "text/plain": [
       "[]"
      ]
     },
     "execution_count": 7,
     "metadata": {},
     "output_type": "execute_result"
    }
   ],
   "source": [
    "anob=[]\n"
   ]
  },
  {
   "cell_type": "markdown",
   "metadata": {},
   "source": [
    "### 34. 名詞の連接\n",
    "##### 名詞の連接（連続して出現する名詞）を最長一致で抽出せよ．"
   ]
  },
  {
   "cell_type": "code",
   "execution_count": null,
   "metadata": {},
   "outputs": [],
   "source": []
  },
  {
   "cell_type": "markdown",
   "metadata": {},
   "source": [
    "### 35. 単語の出現頻度\n",
    "##### 文章中に出現する単語とその出現頻度を求め，出現頻度の高い順に並べよ．"
   ]
  },
  {
   "cell_type": "code",
   "execution_count": null,
   "metadata": {},
   "outputs": [],
   "source": []
  },
  {
   "cell_type": "markdown",
   "metadata": {},
   "source": [
    "### 36. 頻度上位10語\n",
    "##### 出現頻度が高い10語とその出現頻度をグラフ（例えば棒グラフなど）で表示せよ．．"
   ]
  },
  {
   "cell_type": "code",
   "execution_count": null,
   "metadata": {},
   "outputs": [],
   "source": []
  },
  {
   "cell_type": "markdown",
   "metadata": {},
   "source": [
    "### 37. 「猫」と共起頻度の高い上位10語\n",
    "##### 「猫」とよく共起する（共起頻度が高い）10語とその出現頻度をグラフ（例えば棒グラフなど）で表示せよ．"
   ]
  },
  {
   "cell_type": "code",
   "execution_count": null,
   "metadata": {},
   "outputs": [],
   "source": []
  },
  {
   "cell_type": "markdown",
   "metadata": {},
   "source": [
    "### 38. ヒストグラム\n",
    "##### 単語の出現頻度のヒストグラム（横軸に出現頻度，縦軸に出現頻度をとる単語の種類数を棒グラフで表したもの）を描け．"
   ]
  },
  {
   "cell_type": "code",
   "execution_count": null,
   "metadata": {},
   "outputs": [],
   "source": []
  },
  {
   "cell_type": "markdown",
   "metadata": {},
   "source": [
    "### 39. Zipfの法則\n",
    "##### 単語の出現頻度順位を横軸，その出現頻度を縦軸として，両対数グラフをプロットせよ．"
   ]
  },
  {
   "cell_type": "code",
   "execution_count": null,
   "metadata": {},
   "outputs": [],
   "source": []
  },
  {
   "cell_type": "code",
   "execution_count": null,
   "metadata": {},
   "outputs": [],
   "source": []
  }
 ],
 "metadata": {
  "kernelspec": {
   "display_name": "Python 3",
   "language": "python",
   "name": "python3"
  },
  "language_info": {
   "codemirror_mode": {
    "name": "ipython",
    "version": 3
   },
   "file_extension": ".py",
   "mimetype": "text/x-python",
   "name": "python",
   "nbconvert_exporter": "python",
   "pygments_lexer": "ipython3",
   "version": "3.7.3"
  }
 },
 "nbformat": 4,
 "nbformat_minor": 4
}
